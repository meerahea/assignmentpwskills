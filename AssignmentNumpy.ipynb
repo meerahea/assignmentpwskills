{
 "cells": [
  {
   "cell_type": "code",
   "execution_count": 14,
   "id": "b723dcad-1c35-47d4-9f27-0c2f9a2b3009",
   "metadata": {},
   "outputs": [],
   "source": [
    "#Consider the below code to answer further questions:\n",
    "import numpy as np\n",
    "list_ = [ '1' , '2' , '3' , '4' , '5' ]\n",
    "array_list = np.array(object = list_)"
   ]
  },
  {
   "cell_type": "markdown",
   "id": "6a69273c-d1cc-4f8d-9e0e-0ab1a502f856",
   "metadata": {},
   "source": [
    "Que1. Is there any difference in the data type of variables list_ and array_list? If there is then write a code\n",
    "to print the data types of both the variables."
   ]
  },
  {
   "cell_type": "markdown",
   "id": "316d0c39-0122-47e8-bd1f-6178126be1ca",
   "metadata": {},
   "source": [
    "Ans:"
   ]
  },
  {
   "cell_type": "markdown",
   "id": "c6b170da-3169-4085-98d1-c64c87b652a4",
   "metadata": {},
   "source": [
    "Yes, there is a difference in the data type of variables list_ and array_list. The variable list_ contains strings, while the array_list contains a numpy array of strings. Here's the code to print the data types of both variables:"
   ]
  },
  {
   "cell_type": "code",
   "execution_count": 23,
   "id": "1e445392-0e31-4452-9b5d-392da6d03b17",
   "metadata": {},
   "outputs": [
    {
     "name": "stdout",
     "output_type": "stream",
     "text": [
      "Data type of list_: <class 'str'>\n",
      "Data type of array_list: <U1\n"
     ]
    }
   ],
   "source": [
    "print(\"Data type of list_:\", type(list_[0]))\n",
    "print(\"Data type of array_list:\", array_list.dtype)"
   ]
  },
  {
   "cell_type": "markdown",
   "id": "0d2b3091-3ec2-4e0e-90b8-4181c3ea1ce4",
   "metadata": {},
   "source": [
    "Que2. Write a code to print the data type of each and every element of both the variables list_ and\n",
    "arra_list."
   ]
  },
  {
   "cell_type": "markdown",
   "id": "6eea8348-2565-4ead-811a-9678769f6155",
   "metadata": {},
   "source": [
    "Ans:"
   ]
  },
  {
   "cell_type": "code",
   "execution_count": 28,
   "id": "e5dc4443-fb4c-4815-bd5e-a3bcf9078719",
   "metadata": {},
   "outputs": [
    {
     "name": "stdout",
     "output_type": "stream",
     "text": [
      "Data type of elements in list_:\n",
      "<class 'str'>\n",
      "<class 'str'>\n",
      "<class 'str'>\n",
      "<class 'str'>\n",
      "<class 'str'>\n",
      "\n",
      "Data type of elements in array_list:\n",
      "<class 'numpy.str_'>\n",
      "<class 'numpy.str_'>\n",
      "<class 'numpy.str_'>\n",
      "<class 'numpy.str_'>\n",
      "<class 'numpy.str_'>\n"
     ]
    }
   ],
   "source": [
    "print(\"Data type of elements in list_:\")\n",
    "for item in list_:\n",
    "    print(type(item))\n",
    "\n",
    "print(\"\\nData type of elements in array_list:\")\n",
    "for item in array_list:\n",
    "    print(type(item))"
   ]
  },
  {
   "cell_type": "markdown",
   "id": "c2a2a2d1-4a6b-40be-b3d9-8e78fa5e51cf",
   "metadata": {},
   "source": [
    "Que3. Considering the following changes in the variable, array_list:\n",
    "array_list = np.array(object = list_, dtype = int)"
   ]
  },
  {
   "cell_type": "markdown",
   "id": "0722d7b6-585c-4ae0-bf53-11614cf66ca6",
   "metadata": {},
   "source": [
    "Will there be any difference in the data type of the elements present in both the variables, list_ and\n",
    "arra_list? If so then print the data types of each and every element present in both the variables, list_\n",
    "and arra_list."
   ]
  },
  {
   "cell_type": "markdown",
   "id": "20ac2609-3120-40b4-9686-0ff246449841",
   "metadata": {},
   "source": [
    "Ans:"
   ]
  },
  {
   "cell_type": "code",
   "execution_count": 30,
   "id": "80c95097-d1ae-4b53-82e8-8ee6d0da4839",
   "metadata": {},
   "outputs": [
    {
     "name": "stdout",
     "output_type": "stream",
     "text": [
      "Data type of element '1': <class 'str'>\n",
      "Data type of element '2': <class 'str'>\n",
      "Data type of element '3': <class 'str'>\n",
      "Data type of element '4': <class 'str'>\n",
      "Data type of element '5': <class 'str'>\n",
      "Data type of element '1': <class 'numpy.int64'>\n",
      "Data type of element '2': <class 'numpy.int64'>\n",
      "Data type of element '3': <class 'numpy.int64'>\n",
      "Data type of element '4': <class 'numpy.int64'>\n",
      "Data type of element '5': <class 'numpy.int64'>\n"
     ]
    }
   ],
   "source": [
    "#Change data type of array_list elements and print\n",
    "array_list = np.array(object=list_, dtype=int)\n",
    "\n",
    "# Print data type of each element in list_\n",
    "for item in list_:\n",
    "    print(f\"Data type of element '{item}': {type(item)}\")\n",
    "\n",
    "# Print data type of each element in array_list\n",
    "for item in array_list:\n",
    "    print(f\"Data type of element '{item}': {type(item)}\")"
   ]
  },
  {
   "cell_type": "code",
   "execution_count": 10,
   "id": "40f8dd6e-7884-40d0-953f-a5ce8a0e741d",
   "metadata": {},
   "outputs": [],
   "source": [
    "#Consider the below code to answer further questions:\n",
    "import numpy as np\n",
    "num_list = [ [ 1 , 2 , 3 ] , [ 4 , 5 , 6 ] ]\n",
    "num_array = np.array(object = num_list)"
   ]
  },
  {
   "cell_type": "markdown",
   "id": "a1079442-6c15-4ca0-908a-7d3b6959c451",
   "metadata": {},
   "source": [
    "Que4. Write a code to find the following characteristics of variable, num_array:\n",
    "(i) shape\n",
    "(ii) size"
   ]
  },
  {
   "cell_type": "markdown",
   "id": "ca90caf5-1809-42c5-976e-bf00f9cdf47d",
   "metadata": {},
   "source": [
    "Ans:"
   ]
  },
  {
   "cell_type": "code",
   "execution_count": 21,
   "id": "52ff7eb1-127c-4fe5-bead-85dc0a4e48c2",
   "metadata": {},
   "outputs": [
    {
     "name": "stdout",
     "output_type": "stream",
     "text": [
      "Shape: (2, 3)\n",
      "Size: 6\n"
     ]
    }
   ],
   "source": [
    "# (i) Finding the shape of the array\n",
    "shape = num_array.shape\n",
    "\n",
    "# (ii) Finding the size of the array\n",
    "size = num_array.size\n",
    "\n",
    "print(\"Shape:\", shape)\n",
    "print(\"Size:\", size)"
   ]
  },
  {
   "cell_type": "markdown",
   "id": "ec9945e5-70be-4a4d-9f4a-c20d6d4b8073",
   "metadata": {},
   "source": [
    "Que5. Write a code to create numpy array of 3*3 matrix containing zeros only, using a numpy array\n",
    "creation function.\n",
    "[Hint: The size of the array will be 9 and the shape will be (3,3).]"
   ]
  },
  {
   "cell_type": "markdown",
   "id": "f52e82d9-f6e5-4efb-ae07-fee5da35d721",
   "metadata": {},
   "source": [
    "Ans:"
   ]
  },
  {
   "cell_type": "code",
   "execution_count": 22,
   "id": "cb2f16d2-9a66-4665-a8b4-dc8482328008",
   "metadata": {},
   "outputs": [
    {
     "name": "stdout",
     "output_type": "stream",
     "text": [
      "[[0. 0. 0.]\n",
      " [0. 0. 0.]\n",
      " [0. 0. 0.]]\n"
     ]
    }
   ],
   "source": [
    "import numpy as np\n",
    "\n",
    "zeros_matrix = np.zeros((3, 3))\n",
    "print(zeros_matrix)"
   ]
  },
  {
   "cell_type": "code",
   "execution_count": 19,
   "id": "3f581787-f717-4291-aaaa-d8a6f2938b5d",
   "metadata": {},
   "outputs": [
    {
     "data": {
      "text/plain": [
       "(3, 3)"
      ]
     },
     "execution_count": 19,
     "metadata": {},
     "output_type": "execute_result"
    }
   ],
   "source": [
    "zeros_matrix.shape"
   ]
  },
  {
   "cell_type": "code",
   "execution_count": 20,
   "id": "b436fadb-3165-41dc-a140-2d55426507af",
   "metadata": {},
   "outputs": [
    {
     "data": {
      "text/plain": [
       "9"
      ]
     },
     "execution_count": 20,
     "metadata": {},
     "output_type": "execute_result"
    }
   ],
   "source": [
    "zeros_matrix.size"
   ]
  },
  {
   "cell_type": "markdown",
   "id": "b5d9b39e-e3d8-4447-96b0-c915d18e4046",
   "metadata": {},
   "source": [
    "Que6. Create an identity matrix of shape (5,5) using numpy functions?\n",
    "[Hint: An identity matrix is a matrix containing 1 diagonally and other elements will be 0.]"
   ]
  },
  {
   "cell_type": "markdown",
   "id": "fb054701-c818-4c33-abbe-16707923da47",
   "metadata": {},
   "source": [
    "Ans:"
   ]
  },
  {
   "cell_type": "code",
   "execution_count": 31,
   "id": "efc1e095-b5c1-4cfc-9c4a-670068f56595",
   "metadata": {},
   "outputs": [
    {
     "name": "stdout",
     "output_type": "stream",
     "text": [
      "[[1. 0. 0. 0. 0.]\n",
      " [0. 1. 0. 0. 0.]\n",
      " [0. 0. 1. 0. 0.]\n",
      " [0. 0. 0. 1. 0.]\n",
      " [0. 0. 0. 0. 1.]]\n"
     ]
    }
   ],
   "source": [
    "import numpy as np\n",
    "\n",
    "identity_matrix = np.eye(5)\n",
    "print(identity_matrix)"
   ]
  }
 ],
 "metadata": {
  "kernelspec": {
   "display_name": "Python 3 (ipykernel)",
   "language": "python",
   "name": "python3"
  },
  "language_info": {
   "codemirror_mode": {
    "name": "ipython",
    "version": 3
   },
   "file_extension": ".py",
   "mimetype": "text/x-python",
   "name": "python",
   "nbconvert_exporter": "python",
   "pygments_lexer": "ipython3",
   "version": "3.10.8"
  }
 },
 "nbformat": 4,
 "nbformat_minor": 5
}
