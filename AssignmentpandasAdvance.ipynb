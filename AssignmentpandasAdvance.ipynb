{
 "cells": [
  {
   "cell_type": "markdown",
   "id": "73fb8006-e929-4dfa-9908-657dfb63f21e",
   "metadata": {},
   "source": [
    "Que.1 List any five functions of the pandas library with execution."
   ]
  },
  {
   "cell_type": "markdown",
   "id": "8bc75d7b-c025-486b-a62d-8e8079879f1e",
   "metadata": {},
   "source": [
    "Ans: 1) read_csv(): This function is used to read data from a CSV file and create a DataFrame."
   ]
  },
  {
   "cell_type": "code",
   "execution_count": 2,
   "id": "7422efe4-53e8-4ee1-b6d3-77f089c22e51",
   "metadata": {},
   "outputs": [
    {
     "name": "stdout",
     "output_type": "stream",
     "text": [
      "         Date    Product  Sales    Category\n",
      "0  2023-07-01  Product A    100  Category 1\n",
      "1  2023-07-02  Product B    150  Category 1\n",
      "2  2023-07-03  Product A     80  Category 1\n",
      "3  2023-07-04  Product C    200  Category 2\n",
      "4  2023-07-05  Product B    120  Category 1\n"
     ]
    }
   ],
   "source": [
    "import pandas as pd\n",
    "\n",
    "# Reading a CSV file and creating a DataFrame\n",
    "data = pd.read_csv('sales_data.csv')\n",
    "print(data.head())"
   ]
  },
  {
   "cell_type": "markdown",
   "id": "718e3655-929d-4e36-a0f3-a177f0e3a8ff",
   "metadata": {},
   "source": [
    "2) head(): The head() function is used to display the first n rows of a DataFrame."
   ]
  },
  {
   "cell_type": "code",
   "execution_count": 3,
   "id": "b693f4b5-43ce-4227-a6f3-eed629c27007",
   "metadata": {},
   "outputs": [
    {
     "name": "stdout",
     "output_type": "stream",
     "text": [
      "      Name  Age\n",
      "0    Alice   25\n",
      "1      Bob   30\n",
      "2  Charlie   22\n"
     ]
    }
   ],
   "source": [
    "import pandas as pd\n",
    "\n",
    "data = {'Name': ['Alice', 'Bob', 'Charlie', 'David', 'Eve'],\n",
    "        'Age': [25, 30, 22, 28, 21]}\n",
    "\n",
    "df = pd.DataFrame(data)\n",
    "print(df.head(3))"
   ]
  },
  {
   "cell_type": "markdown",
   "id": "88f3a76e-bb2f-4546-b444-f2413e395fa6",
   "metadata": {},
   "source": [
    "3) groupby(): The groupby() function is used to group data in a DataFrame based on one or more columns and perform aggregate functions on them."
   ]
  },
  {
   "cell_type": "code",
   "execution_count": 2,
   "id": "a94360c0-43cc-4a0c-8215-0e7148209b72",
   "metadata": {},
   "outputs": [
    {
     "name": "stdout",
     "output_type": "stream",
     "text": [
      "Department\n",
      "Finance    90000.0\n",
      "HR         57500.0\n",
      "IT         77500.0\n",
      "Name: Salary, dtype: float64\n"
     ]
    }
   ],
   "source": [
    "import pandas as pd\n",
    "\n",
    "data = {'Name': ['Alice', 'Bob', 'Charlie', 'David', 'Eve'],\n",
    "        'Department': ['HR', 'IT', 'IT', 'HR', 'Finance'],\n",
    "        'Salary': [60000, 75000, 80000, 55000, 90000]}\n",
    "\n",
    "df = pd.DataFrame(data)\n",
    "grouped = df.groupby('Department')['Salary'].mean()\n",
    "print(grouped)"
   ]
  },
  {
   "cell_type": "markdown",
   "id": "75f273e7-2aa0-4659-8a9b-7cb1cfa24a4f",
   "metadata": {},
   "source": [
    "4) fillna(): The fillna() function is used to replace missing values (NaN) in a DataFrame with specified values."
   ]
  },
  {
   "cell_type": "code",
   "execution_count": 4,
   "id": "9065a637-8a6a-49aa-88c0-4af299b01a6e",
   "metadata": {},
   "outputs": [
    {
     "name": "stdout",
     "output_type": "stream",
     "text": [
      "     A    B\n",
      "0  1.0  0.0\n",
      "1  2.0  2.0\n",
      "2  0.0  3.0\n",
      "3  4.0  4.0\n",
      "4  5.0  0.0\n"
     ]
    }
   ],
   "source": [
    "import pandas as pd\n",
    "import numpy as np\n",
    "\n",
    "data = {'A': [1, 2, np.nan, 4, 5],\n",
    "        'B': [np.nan, 2, 3, 4, np.nan]}\n",
    "\n",
    "df = pd.DataFrame(data)\n",
    "df_filled = df.fillna(0)\n",
    "print(df_filled)"
   ]
  },
  {
   "cell_type": "markdown",
   "id": "d19df5e9-ba3c-4662-88b6-11b8c14aa21a",
   "metadata": {},
   "source": [
    "5) merge(): The merge() function is used to combine two or more DataFrames based on a common column or index"
   ]
  },
  {
   "cell_type": "code",
   "execution_count": 6,
   "id": "6cc246ee-b29a-44f1-bbf2-1fc117e8ca3d",
   "metadata": {},
   "outputs": [
    {
     "name": "stdout",
     "output_type": "stream",
     "text": [
      "   ID     Name  Salary\n",
      "0   3  Charlie   60000\n",
      "1   4    David   55000\n"
     ]
    }
   ],
   "source": [
    "import pandas as pd\n",
    "\n",
    "data1 = {'ID': [1, 2, 3, 4],\n",
    "         'Name': ['Alice', 'Bob', 'Charlie', 'David']}\n",
    "\n",
    "data2 = {'ID': [3, 4, 5, 6],\n",
    "         'Salary': [60000, 55000, 70000, 80000]}\n",
    "\n",
    "df1 = pd.DataFrame(data1)\n",
    "df2 = pd.DataFrame(data2)\n",
    "merged_df = pd.merge(df1, df2, on='ID')\n",
    "print(merged_df)"
   ]
  },
  {
   "cell_type": "markdown",
   "id": "4552d0c4-acf8-4939-b0ec-1a5ea35840ce",
   "metadata": {},
   "source": [
    "Que.2 Given a Pandas DataFrame df with columns 'A', 'B', and 'C', write a Python function to re-index the\n",
    "DataFrame with a new index that starts from 1 and increments by 2 for each row."
   ]
  },
  {
   "cell_type": "markdown",
   "id": "65832ed4-dcfa-44e5-b1ac-b0f8f5df38b1",
   "metadata": {},
   "source": [
    "Ans:"
   ]
  },
  {
   "cell_type": "code",
   "execution_count": 7,
   "id": "cae277e4-19ce-4acc-a373-a2689be4d326",
   "metadata": {},
   "outputs": [
    {
     "name": "stdout",
     "output_type": "stream",
     "text": [
      "    A    B     C\n",
      "1  10  100  1000\n",
      "3  20  200  2000\n",
      "5  30  300  3000\n",
      "7  40  400  4000\n"
     ]
    }
   ],
   "source": [
    "import pandas as pd\n",
    "\n",
    "def reindex_dataframe(df):\n",
    "    new_index = pd.RangeIndex(start=1, stop=df.shape[0]*2, step=2)\n",
    "    df.set_index(new_index,inplace=True)\n",
    "    return df\n",
    "\n",
    "# Example usage\n",
    "data = {'A': [10, 20, 30, 40],\n",
    "        'B': [100, 200, 300, 400],\n",
    "        'C': [1000, 2000, 3000, 4000]}\n",
    "df = pd.DataFrame(data)\n",
    "\n",
    "print(reindex_dataframe(df))"
   ]
  },
  {
   "cell_type": "markdown",
   "id": "27d9cdfa-4d93-4c68-9fd8-e9e236f8cc2d",
   "metadata": {},
   "source": [
    "Que.3 You have a Pandas DataFrame df with a column named 'Values'. Write a Python function that\n",
    "iterates over the DataFrame and calculates the sum of the first three values in the 'Values' column. The\n",
    "function should print the sum to the console."
   ]
  },
  {
   "cell_type": "markdown",
   "id": "eabf5c71-8380-45a4-86bd-e3adb484bbc2",
   "metadata": {},
   "source": [
    "For example, if the 'Values' column of df contains the values [10, 20, 30, 40, 50], your function should\n",
    "calculate and print the sum of the first three values, which is 60."
   ]
  },
  {
   "cell_type": "markdown",
   "id": "f9dfd2df-a958-4677-b55c-26c9b93ea4cb",
   "metadata": {},
   "source": [
    "Ans:"
   ]
  },
  {
   "cell_type": "code",
   "execution_count": 11,
   "id": "c6f8682d-80c0-4216-880e-f984cbd75b21",
   "metadata": {},
   "outputs": [
    {
     "name": "stdout",
     "output_type": "stream",
     "text": [
      "Sum of the first three values: 60\n"
     ]
    }
   ],
   "source": [
    "import pandas as pd\n",
    "\n",
    "def cal_sum_first_three(df):\n",
    "    first_three_sum = df['Values'].head(3).sum()\n",
    "    print(\"Sum of the first three values:\", first_three_sum)\n",
    "\n",
    "# Replace 'Values' with the actual column name containing the values\n",
    "data = {'Values': [10, 20, 30, 40, 50]}\n",
    "df = pd.DataFrame(data)\n",
    "cal_sum_first_three(df)\n"
   ]
  },
  {
   "cell_type": "markdown",
   "id": "db256612-d38f-4ec3-9b3a-f18a7ab5edfa",
   "metadata": {},
   "source": [
    "Que.4 Given a Pandas DataFrame df with a column 'Text', write a Python function to create a new column\n",
    "'Word_Count' that contains the number of words in each row of the 'Text' column."
   ]
  },
  {
   "cell_type": "code",
   "execution_count": 12,
   "id": "0a0b98a0-ebc0-48d9-8709-3ce998a0ee49",
   "metadata": {},
   "outputs": [
    {
     "name": "stdout",
     "output_type": "stream",
     "text": [
      "                                      Text  Word_Count\n",
      "0          This is my pwskills Assignment.           5\n",
      "1           it's Data Science Masters 2.0.           5\n",
      "2  Classes by Sudhnashu sir and Krish sir.           7\n"
     ]
    }
   ],
   "source": [
    "import pandas as pd\n",
    "\n",
    "def word_count_column(df):\n",
    "    df['Word_Count'] = df['Text'].apply(lambda x: len(x.split()))\n",
    "    return df\n",
    "\n",
    "# Replace 'Text' with the actual column name containing the text\n",
    "data = {'Text': [\"This is my pwskills Assignment.\",\"it's Data Science Masters 2.0.\",\"Classes by Sudhnashu sir and Krish sir.\"]}\n",
    "df = pd.DataFrame(data)\n",
    "df = word_count_column(df)\n",
    "print(df)"
   ]
  },
  {
   "cell_type": "markdown",
   "id": "a893eb75-94db-44a9-91cc-82d6ad014082",
   "metadata": {},
   "source": [
    "Que.5 How are DataFrame.size() and DataFrame.shape() different?"
   ]
  },
  {
   "cell_type": "markdown",
   "id": "c657e0d2-0868-49ac-afbc-015ed5eed5bd",
   "metadata": {},
   "source": [
    "Ans:"
   ]
  },
  {
   "cell_type": "markdown",
   "id": "73af8bb8-5238-485f-9139-057086b75734",
   "metadata": {},
   "source": [
    "Both DataFrame.size and DataFrame.shape are attributes in Pandas that provide information about the dimensions of a DataFrame, but they convey different information:\n",
    "\n",
    "DataFrame.size:\n",
    "DataFrame.size returns the total number of elements in the DataFrame, which is the product of the number of rows and the number of columns.\n",
    "It provides a single integer value representing the total size of the DataFrame's data.\n",
    "\n",
    "DataFrame.shape:\n",
    "DataFrame.shape returns a tuple representing the dimensions of the DataFrame in the format (number_of_rows, number_of_columns).\n",
    "It provides a clearer breakdown of the DataFrame's structure, separating the number of rows and columns.\n",
    "See the exapmle given below:"
   ]
  },
  {
   "cell_type": "code",
   "execution_count": 13,
   "id": "b7f7c829-6862-493c-b576-99de7b9cda4b",
   "metadata": {},
   "outputs": [
    {
     "name": "stdout",
     "output_type": "stream",
     "text": [
      "DataFrame size: 6\n",
      "DataFrame shape: (3, 2)\n"
     ]
    }
   ],
   "source": [
    "import pandas as pd\n",
    "\n",
    "data = {'Column1': [1, 2, 3], 'Column2': [4, 5, 6]}\n",
    "df = pd.DataFrame(data)\n",
    "\n",
    "print(\"DataFrame size:\", df.size)      \n",
    "print(\"DataFrame shape:\", df.shape)    "
   ]
  },
  {
   "cell_type": "markdown",
   "id": "a752504c-1647-47ce-aa5e-590a4a03aaa3",
   "metadata": {},
   "source": [
    "Que.6 Which function of pandas do we use to read an excel file?"
   ]
  },
  {
   "cell_type": "markdown",
   "id": "2c0c650e-20e3-42df-902c-7ba993a51e0d",
   "metadata": {},
   "source": [
    "Ans:"
   ]
  },
  {
   "cell_type": "markdown",
   "id": "08ab2f91-2ec6-426d-b58f-12051f4fa6d5",
   "metadata": {},
   "source": [
    "In Pandas, you can use the pd.read_excel() function to read data from an Excel file.The pd.read_excel() function automatically detects the data in the Excel file and creates a DataFrame. You can then manipulate and analyze the data using the Pandas DataFrame functionalities."
   ]
  },
  {
   "cell_type": "code",
   "execution_count": null,
   "id": "15f52bb8-5199-4923-83b3-cb84300b5c07",
   "metadata": {},
   "outputs": [],
   "source": [
    "import pandas as pd\n",
    "\n",
    "# Replace 'file_path.xlsx' with the actual path to your Excel file\n",
    "file_path = 'file_path.xlsx'\n",
    "df = pd.read_excel(file_path)\n",
    "\n",
    "# Now you can work with the DataFrame 'df' containing the data from the Excel file\n",
    "print(df)"
   ]
  },
  {
   "cell_type": "markdown",
   "id": "013b2fb1-e062-439d-a556-d4ab17bfaf8c",
   "metadata": {},
   "source": [
    "Que.7 You have a Pandas DataFrame df that contains a column named 'Email' that contains email\n",
    "addresses in the format 'username@domain.com'. Write a Python function that creates a new column\n",
    "'Username' in df that contains only the username part of each email address."
   ]
  },
  {
   "cell_type": "markdown",
   "id": "bcee8b64-cf3a-4310-b63f-890ed0951573",
   "metadata": {},
   "source": [
    "The username is the part of the email address that appears before the '@' symbol. For example, if the\n",
    "email address is 'john.doe@example.com', the 'Username' column should contain 'john.doe'. Your\n",
    "function should extract the username from each email address and store it in the new 'Username'\n",
    "column."
   ]
  },
  {
   "cell_type": "markdown",
   "id": "1d9de81a-77f9-46da-8ef1-0f35925e4efd",
   "metadata": {},
   "source": [
    "Ans:"
   ]
  },
  {
   "cell_type": "code",
   "execution_count": 15,
   "id": "206d0b8d-22e0-4fef-9ac4-32a455f5d199",
   "metadata": {},
   "outputs": [
    {
     "name": "stdout",
     "output_type": "stream",
     "text": [
      "                       Email         Username\n",
      "0  sudhanshu.kumar@yahoo.com  sudhanshu.kumar\n",
      "1       krish.naik@gmail.com       krish.naik\n",
      "2      mohan.swami@gmail.com      mohan.swami\n"
     ]
    }
   ],
   "source": [
    "import pandas as pd\n",
    "\n",
    "def extract_username(df):\n",
    "    df['Username'] = df['Email'].apply(lambda email: email.split('@')[0])\n",
    "    return df\n",
    "\n",
    "# Replace 'Email' with the actual column name containing the email addresses\n",
    "data = {'Email': ['sudhanshu.kumar@yahoo.com', 'krish.naik@gmail.com', 'mohan.swami@gmail.com']}\n",
    "df = pd.DataFrame(data)\n",
    "df = extract_username(df)\n",
    "print(df)\n"
   ]
  },
  {
   "cell_type": "markdown",
   "id": "31bdcebf-87c0-4c97-b878-a469f0655aed",
   "metadata": {},
   "source": [
    "Que.Q8. You have a Pandas DataFrame df with columns 'A', 'B', and 'C'. Write a Python function that selects\n",
    "all rows where the value in column 'A' is greater than 5 and the value in column 'B' is less than 10. The\n",
    "function should return a new DataFrame that contains only the selected rows."
   ]
  },
  {
   "cell_type": "markdown",
   "id": "a58e8cef-be8e-43fc-96ed-a45b45b7b912",
   "metadata": {},
   "source": [
    "For example, if df contains the following values:"
   ]
  },
  {
   "cell_type": "raw",
   "id": "7c2da58e-5fed-437e-ba9c-38505a1641c1",
   "metadata": {},
   "source": [
    "  A B C\n",
    "0 3 5 1\n",
    "1 8 2 7\n",
    "2 6 9 4\n",
    "3 2 3 5\n",
    "4 9 1 2"
   ]
  },
  {
   "cell_type": "markdown",
   "id": "fd910c83-98cd-424e-b60f-c341e110c0b4",
   "metadata": {},
   "source": [
    "Ans:"
   ]
  },
  {
   "cell_type": "code",
   "execution_count": 24,
   "id": "4ea514cc-eb37-48af-a67d-30a0b013197d",
   "metadata": {},
   "outputs": [
    {
     "name": "stdout",
     "output_type": "stream",
     "text": [
      "   A  B  C\n",
      "1  8  2  7\n",
      "2  6  9  4\n",
      "4  9  1  2\n"
     ]
    }
   ],
   "source": [
    "import pandas as pd\n",
    "\n",
    "def select_rows(df):\n",
    "    selected_rows = df[(df['A'] > 5) & (df['B'] < 10)]\n",
    "    return selected_rows\n",
    "\n",
    "# Replace 'A', 'B', and 'C' with the actual column names\n",
    "data = {'A': [3, 8, 6, 2, 9],\n",
    "        'B': [5, 2, 9, 3, 1],\n",
    "        'C': [1, 7, 4, 5, 2]}\n",
    "df = pd.DataFrame(data)\n",
    "selected_df = select_rows(df)\n",
    "print(selected_df)"
   ]
  },
  {
   "cell_type": "markdown",
   "id": "e3f00dd0-eb0e-4358-a75d-0ec958b22025",
   "metadata": {},
   "source": [
    "Que.9 Given a Pandas DataFrame df with a column 'Values', write a Python function to calculate the mean,\n",
    "median, and standard deviation of the values in the 'Values' column."
   ]
  },
  {
   "cell_type": "markdown",
   "id": "7e6bbe16-bcf7-454f-bab2-a6684c429c40",
   "metadata": {},
   "source": [
    "Ans:"
   ]
  },
  {
   "cell_type": "code",
   "execution_count": 19,
   "id": "05c1576f-1cc6-4882-a8e0-796cc36b7d27",
   "metadata": {},
   "outputs": [
    {
     "name": "stdout",
     "output_type": "stream",
     "text": [
      "Mean: 30.0\n",
      "Median: 30.0\n",
      "Standard Deviation: 15.811388300841896\n"
     ]
    }
   ],
   "source": [
    "import pandas as pd\n",
    "\n",
    "def cal_stats(df):\n",
    "    mean = df['Values'].mean()\n",
    "    median = df['Values'].median()\n",
    "    std_deviation = df['Values'].std()\n",
    "    return mean, median, std_deviation\n",
    "\n",
    "# Replace 'Values' with the actual column name containing the values\n",
    "data = {'Values': [10, 20, 30, 40, 50]}\n",
    "df = pd.DataFrame(data)\n",
    "\n",
    "print(\"Mean:\", mean)\n",
    "print(\"Median:\", median)\n",
    "print(\"Standard Deviation:\", std)"
   ]
  },
  {
   "cell_type": "markdown",
   "id": "23bb5dad-a30e-46f3-b5e6-788a788a0c3c",
   "metadata": {},
   "source": [
    "Que.10 Given a Pandas DataFrame df with a column 'Sales' and a column 'Date', write a Python function to\n",
    "create a new column 'MovingAverage' that contains the moving average of the sales for the past 7 days\n",
    "for each row in the DataFrame. The moving average should be calculated using a window of size 7 and\n",
    "should include the current day."
   ]
  },
  {
   "cell_type": "markdown",
   "id": "f37e23b3-6a03-4e5f-a7e7-549618ca2265",
   "metadata": {},
   "source": [
    "Ans:"
   ]
  },
  {
   "cell_type": "code",
   "execution_count": 20,
   "id": "69ccaaad-c188-4bdd-9a81-4e0ffa54060b",
   "metadata": {},
   "outputs": [
    {
     "name": "stdout",
     "output_type": "stream",
     "text": [
      "         Date  Sales  MovingAverage\n",
      "0  2023-01-01     10           10.0\n",
      "1  2023-01-02     15           12.5\n",
      "2  2023-01-03     20           15.0\n",
      "3  2023-01-04     25           17.5\n",
      "4  2023-01-05     30           20.0\n",
      "5  2023-01-06     35           22.5\n",
      "6  2023-01-07     40           25.0\n",
      "7  2023-01-08     45           30.0\n",
      "8  2023-01-09     50           35.0\n",
      "9  2023-01-10     55           40.0\n",
      "10 2023-01-11     60           45.0\n",
      "11 2023-01-12     65           50.0\n",
      "12 2023-01-13     70           55.0\n",
      "13 2023-01-14     75           60.0\n",
      "14 2023-01-15     80           65.0\n",
      "15 2023-01-16     85           70.0\n",
      "16 2023-01-17     90           75.0\n",
      "17 2023-01-18     95           80.0\n",
      "18 2023-01-19    100           85.0\n",
      "19 2023-01-20    105           90.0\n"
     ]
    }
   ],
   "source": [
    "import pandas as pd\n",
    "\n",
    "def cal_moving_average(df):\n",
    "    df['MovingAverage'] = df['Sales'].rolling(window=7, min_periods=1).mean()\n",
    "    return df\n",
    "\n",
    "# Replace 'Sales' and 'Date' with the actual column names\n",
    "data = {'Date': pd.date_range(start='2023-01-01', periods=20),\n",
    "        'Sales': [10, 15, 20, 25, 30, 35, 40, 45, 50, 55, 60, 65, 70, 75, 80, 85, 90, 95, 100, 105]}\n",
    "df = pd.DataFrame(data)\n",
    "df = cal_moving_average(df)\n",
    "print(df)"
   ]
  },
  {
   "cell_type": "markdown",
   "id": "f74b3f36-49f1-4ebb-b2c0-93b08ec90c40",
   "metadata": {},
   "source": [
    "Que.11 You have a Pandas DataFrame df with a column 'Date'. Write a Python function that creates a new\n",
    "column 'Weekday' in the DataFrame. The 'Weekday' column should contain the weekday name (e.g.\n",
    "Monday, Tuesday) corresponding to each date in the 'Date' column.\n",
    "For example, if df contains the following values:"
   ]
  },
  {
   "cell_type": "raw",
   "id": "2cc8d8fc-fa05-4030-9267-42e75860f76f",
   "metadata": {},
   "source": [
    "  Date\n",
    "0 2023-01-01\n",
    "1 2023-01-02\n",
    "2 2023-01-03\n",
    "3 2023-01-04\n",
    "4 2023-01-05"
   ]
  },
  {
   "cell_type": "markdown",
   "id": "462ca2ae-aa36-403a-bb04-078a6bee4764",
   "metadata": {},
   "source": [
    "Ans:"
   ]
  },
  {
   "cell_type": "code",
   "execution_count": 26,
   "id": "16006b04-a2be-4b99-aec9-464232166477",
   "metadata": {},
   "outputs": [
    {
     "name": "stdout",
     "output_type": "stream",
     "text": [
      "        Date    Weekday\n",
      "0 2023-01-01     Sunday\n",
      "1 2023-01-02     Monday\n",
      "2 2023-01-03    Tuesday\n",
      "3 2023-01-04  Wednesday\n",
      "4 2023-01-05   Thursday\n"
     ]
    }
   ],
   "source": [
    "import pandas as pd\n",
    "\n",
    "def weekday_column(df):\n",
    "    df['Weekday'] = df['Date'].dt.day_name()\n",
    "    return df\n",
    "\n",
    "# Replace 'Date' with the actual column name containing the dates\n",
    "data = {'Date': ['2023-01-01', '2023-01-02', '2023-01-03', '2023-01-04', '2023-01-05']}\n",
    "df = pd.DataFrame(data)\n",
    "df['Date'] = pd.to_datetime(df['Date'])  # Convert 'Date' column to datetime\n",
    "df = weekday_column(df)\n",
    "print(df)"
   ]
  },
  {
   "cell_type": "markdown",
   "id": "47a699f5-6b1d-4549-8e2f-74235e1a751f",
   "metadata": {},
   "source": [
    "Que.12 Given a Pandas DataFrame df with a column 'Date' that contains timestamps, write a Python\n",
    "function to select all rows where the date is between '2023-01-01' and '2023-01-31'."
   ]
  },
  {
   "cell_type": "markdown",
   "id": "ddd0637b-3657-4657-9f21-29d32cd950dc",
   "metadata": {},
   "source": [
    "Ans:"
   ]
  },
  {
   "cell_type": "code",
   "execution_count": 22,
   "id": "11292f84-2219-452c-9ad8-c201f31ec398",
   "metadata": {},
   "outputs": [
    {
     "name": "stdout",
     "output_type": "stream",
     "text": [
      "        Date\n",
      "0 2023-01-01\n",
      "1 2023-01-15\n",
      "2 2023-01-20\n"
     ]
    }
   ],
   "source": [
    "import pandas as pd\n",
    "\n",
    "def select_rows_by_date_range(df, start_date, end_date):\n",
    "    mask = (df['Date'] >= start_date) & (df['Date'] <= end_date)\n",
    "    selected_rows = df[mask]\n",
    "    return selected_rows\n",
    "\n",
    "# Replace 'Date' with the actual column name containing the timestamps\n",
    "data = {'Date': ['2023-01-01', '2023-01-15', '2023-01-20', '2023-02-05', '2023-03-10']}\n",
    "df = pd.DataFrame(data)\n",
    "df['Date'] = pd.to_datetime(df['Date'])  # Convert 'Date' column to datetime\n",
    "\n",
    "start_date = '2023-01-01'\n",
    "end_date = '2023-01-31'\n",
    "selected_df = select_rows_by_date_range(df, start_date, end_date)\n",
    "print(selected_df)"
   ]
  },
  {
   "cell_type": "markdown",
   "id": "6bfb870d-1587-4ee9-89f9-e856e3c4e799",
   "metadata": {},
   "source": [
    "Que.13 To use the basic functions of pandas, what is the first and foremost necessary library that needs to\n",
    "be imported?"
   ]
  },
  {
   "cell_type": "markdown",
   "id": "2b7996bd-9b86-482a-a289-4d1468ccb13e",
   "metadata": {},
   "source": [
    "Ans:"
   ]
  },
  {
   "cell_type": "markdown",
   "id": "2fd770e9-7f0a-44e4-939d-908ea810395f",
   "metadata": {},
   "source": [
    "The first and foremost library you need to import to use the basic functions of Pandas is the pandas library itself. You can import it using the following statement:"
   ]
  },
  {
   "cell_type": "code",
   "execution_count": null,
   "id": "0119d531-51cf-40de-8359-42019f17b470",
   "metadata": {},
   "outputs": [],
   "source": [
    "import pandas as pd"
   ]
  },
  {
   "cell_type": "markdown",
   "id": "3511cb7c-a6b7-4b77-b23f-0eacdbf83d23",
   "metadata": {},
   "source": [
    "By convention, pd is often used as an alias for the pandas library, making it easier to reference its functions and classes throughout your code. Once you've imported the pandas library, you can use its various functions and classes to work with data using DataFrames, Series, and other Pandas data structures."
   ]
  }
 ],
 "metadata": {
  "kernelspec": {
   "display_name": "Python 3 (ipykernel)",
   "language": "python",
   "name": "python3"
  },
  "language_info": {
   "codemirror_mode": {
    "name": "ipython",
    "version": 3
   },
   "file_extension": ".py",
   "mimetype": "text/x-python",
   "name": "python",
   "nbconvert_exporter": "python",
   "pygments_lexer": "ipython3",
   "version": "3.10.8"
  }
 },
 "nbformat": 4,
 "nbformat_minor": 5
}
